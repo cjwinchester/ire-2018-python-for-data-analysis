{
 "cells": [
  {
   "cell_type": "markdown",
   "metadata": {},
   "source": [
    "# Importing data into pandas\n",
    "\n",
    "There are tons of ways you can get data into a pandas dataframe. Here are a few of the more common ones.\n",
    "\n",
    "First, let's import pandas `as` pd."
   ]
  },
  {
   "cell_type": "code",
   "execution_count": null,
   "metadata": {},
   "outputs": [],
   "source": [
    "import pandas as pd"
   ]
  },
  {
   "cell_type": "markdown",
   "metadata": {},
   "source": [
    "### From a CSV file\n",
    "\n",
    "If your data file is delimited with something other than a comma, you'll need to specify that in the `sep` argument. For example: `pd.read_csv('../data/my-delimited-file.txt', sep='|')`"
   ]
  },
  {
   "cell_type": "code",
   "execution_count": null,
   "metadata": {},
   "outputs": [],
   "source": [
    "csv_df = pd.read_csv('../data/mlb.csv')"
   ]
  },
  {
   "cell_type": "code",
   "execution_count": null,
   "metadata": {},
   "outputs": [],
   "source": [
    "csv_df.head()"
   ]
  },
  {
   "cell_type": "markdown",
   "metadata": {},
   "source": [
    "### From a CSV file on the Internet\n",
    "\n",
    "Just pass in the URL. This example uses the official results of the fall 2016 election in Nebraska."
   ]
  },
  {
   "cell_type": "code",
   "execution_count": null,
   "metadata": {},
   "outputs": [],
   "source": [
    "csvi_df = pd.read_csv('http://electionresults.sos.ne.gov/resultsCSV.aspx?text=All')"
   ]
  },
  {
   "cell_type": "code",
   "execution_count": null,
   "metadata": {},
   "outputs": [],
   "source": [
    "csvi_df.head()"
   ]
  },
  {
   "cell_type": "markdown",
   "metadata": {},
   "source": [
    "### From an Excel file\n",
    "\n",
    "First, you'll need to install the `xlrd` module. (If you're using pipenv, the command would be: `pipenv install xlrd`)\n",
    "\n",
    "You might want to specify the `sheet_name` to select a worksheet -- the default is \"the first one.\""
   ]
  },
  {
   "cell_type": "code",
   "execution_count": null,
   "metadata": {},
   "outputs": [],
   "source": [
    "xl_df = pd.read_excel('../data/homicides2014.xlsx', sheet_name='Murders')"
   ]
  },
  {
   "cell_type": "code",
   "execution_count": null,
   "metadata": {},
   "outputs": [],
   "source": [
    "xl_df.head()"
   ]
  },
  {
   "cell_type": "markdown",
   "metadata": {},
   "source": [
    "### From a Python data collection\n",
    "\n",
    "Maybe the work you're doig in pandas happens downstream of some other Python processing, so the data exists as, say, a list of dictionaries. You can turn this (and other Python data collections, like a list of lists) into a pandas dataframe, too."
   ]
  },
  {
   "cell_type": "code",
   "execution_count": null,
   "metadata": {},
   "outputs": [],
   "source": [
    "test_data = [\n",
    "    {'name': 'Cody Winchester', 'job': 'Training director', 'location': 'Colorado Springs, CO'},\n",
    "    {'name': 'Guy Fieri', 'job': 'Gourmand', 'location': 'Flavortown'},\n",
    "    {'name': 'Sarah Huckabee Sanders', 'job': 'Spokeswoman', 'location': 'Washington, D.C.'}\n",
    "]\n",
    "\n",
    "py_df = pd.DataFrame(test_data)"
   ]
  },
  {
   "cell_type": "code",
   "execution_count": null,
   "metadata": {},
   "outputs": [],
   "source": [
    "py_df.head()"
   ]
  },
  {
   "cell_type": "markdown",
   "metadata": {},
   "source": [
    "### From an HTML table\n",
    "\n",
    "This one requires you to install and specify the HTML parsing engine of your choice -- [BeautifulSoup](https://www.crummy.com/software/BeautifulSoup/bs4/doc/) or [lxml](http://lxml.de/). The default is `lxml`. \n",
    "\n",
    "Pulling data from an HTML table can be hit and miss, depending on how hairy the underlying HTML is, but it's good to know that it's an option.\n",
    "\n",
    "In this example, we've installed `BeautifulSoup` (alias `bs4`) with pipenv and we're going to import [a table of media witnesses](https://www.tdcj.state.tx.us/death_row/dr_media_witness_list.html) to Texas death row executions.\n",
    "\n",
    "We're going to pass four things to [the pandas `read_html()` method](https://pandas.pydata.org/pandas-docs/stable/generated/pandas.read_html.html):\n",
    "1. A string containing the URL we want to scrape\n",
    "2. The `flavor` of parser that we'd like to use to process the HTML (`bs4`)\n",
    "3. The HTML attributes of the table we're targeting (in this case, the table has a `class` called `tdcj_table`)\n",
    "4. The index number of the list, in the list of lists that gets returned in a dataframe, that is the `header`? (Usually it's 0 -- the first one)\n",
    "\n",
    "Reading through the documentation for this method, we also notice that this method returns a *list* of matching tables as datafranes, so we need to grab the *first* item in this list of tables returned. Our arguments were specific enough that there's only one item in the returned list, though, so we can just grab the first item with `[0]`.\n",
    "\n",
    "👉For more details on selecting items from Python lists, see the \"collections of things\" section in [this notebook](../appendix/Python%20data%20types%20and%20basic%20syntax.ipynb#Collections-of-things:-Lists-and-dictionaries)."
   ]
  },
  {
   "cell_type": "code",
   "execution_count": null,
   "metadata": {},
   "outputs": [],
   "source": [
    "html_df = pd.read_html('https://www.tdcj.state.tx.us/death_row/dr_media_witness_list.html',\n",
    "                       flavor='bs4',\n",
    "                       attrs={'class': 'tdcj_table'},\n",
    "                       header=0)[0]"
   ]
  },
  {
   "cell_type": "code",
   "execution_count": null,
   "metadata": {},
   "outputs": [],
   "source": [
    "html_df.head()"
   ]
  },
  {
   "cell_type": "markdown",
   "metadata": {},
   "source": [
    "### From JSON\n",
    "\n",
    "JSON stands for **J**ava**S**cript **O**bject **N**otation. It's a common data interchange format on the web.\n",
    "\n",
    "Pandas can slurp in data from a local `.json` file, or from a URL -- say, a JSON API with data on dogs and cats registered in the Sunshine Coast Region of Australia."
   ]
  },
  {
   "cell_type": "code",
   "execution_count": null,
   "metadata": {},
   "outputs": [],
   "source": [
    "json_df = pd.read_json('https://data.sunshinecoast.qld.gov.au/resource/44qj-t4fr.json')"
   ]
  },
  {
   "cell_type": "code",
   "execution_count": null,
   "metadata": {},
   "outputs": [],
   "source": [
    "json_df.head()"
   ]
  }
 ],
 "metadata": {
  "kernelspec": {
   "display_name": "Python 3",
   "language": "python",
   "name": "python3"
  },
  "language_info": {
   "codemirror_mode": {
    "name": "ipython",
    "version": 3
   },
   "file_extension": ".py",
   "mimetype": "text/x-python",
   "name": "python",
   "nbconvert_exporter": "python",
   "pygments_lexer": "ipython3",
   "version": "3.6.4"
  }
 },
 "nbformat": 4,
 "nbformat_minor": 2
}
