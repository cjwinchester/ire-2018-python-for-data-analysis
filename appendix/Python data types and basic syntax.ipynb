{
 "cells": [
  {
   "cell_type": "markdown",
   "metadata": {},
   "source": [
    "# Python data types and basic syntax\n",
    "\n",
    "A few things that we're _not_ going to go over here that would be good to look up later:\n",
    "- [Date and time data types](https://docs.python.org/3/library/datetime.html)\n",
    "- [String](https://docs.python.org/3/library/stdtypes.html#string-methods) 👏 [methods](https://thehelloworldprogram.com/python/python-string-methods/)\n",
    "- [\"if\" statements and other control-flow tools](https://docs.python.org/3/tutorial/controlflow.html)\n",
    "- [String formatting](https://docs.python.org/3/library/string.html#format-examples)"
   ]
  },
  {
   "cell_type": "markdown",
   "metadata": {},
   "source": [
    "### Variables, comments, basic data types and the `print()` function\n",
    "\n",
    "The `=` sign assigns a value to a variable name that you choose. Later, you can retrieve that value by referencing its variable name. Variable names can be pretty much anything you want ([as long as you follow some basic rules](https://thehelloworldprogram.com/python/python-variable-assignment-statements-rules-conventions-naming/)).\n",
    "\n",
    "A line with a comment -- a note that you don't want Python to interpret -- starts with a `#` sign. Multi-line comments are sandwiched between triple quotes or apostrophes: `'''comment'''` or `\"\"\"comment\"\"\"`.\n",
    "\n",
    "Just like in Excel, Python recognizes a variety of data types, including strings (text), numbers (integers, numbers with decimals and more) and boolean values (`True` and `False`).\n",
    "\n",
    "When you use the `print()` function, Python will display whatever you tell it to print in the terminal (or Jupyter notebook, in this case)."
   ]
  },
  {
   "cell_type": "code",
   "execution_count": null,
   "metadata": {},
   "outputs": [],
   "source": [
    "# variable assignment\n",
    "# https://www.digitalocean.com/community/tutorials/how-to-use-variables-in-python-3\n",
    "\n",
    "# strings -- enclose in single or double quotes, doesn't matter, just make sure they match\n",
    "my_name = 'Cody'\n",
    "\n",
    "# numbers\n",
    "int_num = 6\n",
    "float_num = 6.4\n",
    "\n",
    "# the print function\n",
    "print(8)\n",
    "print('Hello!')\n",
    "print(my_name)\n",
    "print(int_num)\n",
    "print(float_num)\n",
    "\n",
    "# booleans\n",
    "print(True)\n",
    "print(False)\n",
    "print(4 > 6)\n",
    "print(6 == 6)\n",
    "print('ell' in 'Hello')"
   ]
  },
  {
   "cell_type": "markdown",
   "metadata": {},
   "source": [
    "### Doing math in Python\n",
    "\n",
    "You can do [basic math](https://www.digitalocean.com/community/tutorials/how-to-do-math-in-python-3-with-operators) in Python. You can also do [more advanced math](https://docs.python.org/3/library/math.html)."
   ]
  },
  {
   "cell_type": "code",
   "execution_count": null,
   "metadata": {},
   "outputs": [],
   "source": [
    "print(4+2)\n",
    "print(4-2)\n",
    "print(4*2)\n",
    "print(4/2)"
   ]
  },
  {
   "cell_type": "markdown",
   "metadata": {},
   "source": [
    "### Collections of things: Lists and dictionaries\n",
    "\n",
    "We're going to talk about two ways you can use Python to group data into a collection: lists and dictionaries.\n",
    "\n",
    "A _list_ is a comma-separated list of items inside square brackets: `[]`. To get an item out of a list, you'd refer to its numerical position in the list (1, 2, 3, etc. -- and counting starts at 0, so the first item is item 0).\n",
    "\n",
    "A _dictionary_ is a comma-separated list of key/value pairs inside curly brackets: `{}`. To get a value out of a dictionary, you'd refer to the name of its key."
   ]
  },
  {
   "cell_type": "code",
   "execution_count": null,
   "metadata": {
    "scrolled": true
   },
   "outputs": [],
   "source": [
    "# a salsa recipe\n",
    "\n",
    "salsa_ingredients = ['tomato', 'onion', 'jalapeño', 'lime', 'cilantro']\n",
    "\n",
    "print(salsa_ingredients[0])\n",
    "print(salsa_ingredients[-1])\n",
    "print(salsa_ingredients[0:2])\n",
    "\n",
    "# use .append() to add to a list\n",
    "salsa_ingredients.append('mango')\n",
    "print(salsa_ingredients)\n",
    "\n",
    "# use .pop() to remove an item from a list\n",
    "salsa_ingredients.pop()\n",
    "print(salsa_ingredients)\n",
    "\n",
    "salsa = {\n",
    "    'ingredients': salsa_ingredients,\n",
    "    'instructions': 'Chop up all the ingredients and cook them for awhile.',\n",
    "    'oz_made': 12\n",
    "}\n",
    "\n",
    "print(salsa['oz_made'])\n",
    "print(salsa.get('oz_made'))\n",
    "\n",
    "# create a new item in a dictionary by assigning it a new key and setting the value with `=`\n",
    "salsa['tastes_great'] = True\n",
    "print(salsa)\n",
    "\n",
    "# remove items from a dictionary with `del`\n",
    "del salsa['tastes_great']\n",
    "print(salsa)"
   ]
  }
 ],
 "metadata": {
  "kernelspec": {
   "display_name": "Python 3",
   "language": "python",
   "name": "python3"
  },
  "language_info": {
   "codemirror_mode": {
    "name": "ipython",
    "version": 3
   },
   "file_extension": ".py",
   "mimetype": "text/x-python",
   "name": "python",
   "nbconvert_exporter": "python",
   "pygments_lexer": "ipython3",
   "version": "3.6.4"
  }
 },
 "nbformat": 4,
 "nbformat_minor": 2
}
