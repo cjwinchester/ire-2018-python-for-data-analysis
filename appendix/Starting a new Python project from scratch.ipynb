{
 "cells": [
  {
   "cell_type": "markdown",
   "metadata": {},
   "source": [
    "# Starting a new Python project from scratch\n",
    "\n",
    "This guide will walk you through creating a Python data analysis project with Jupyter and pandas.\n",
    "\n",
    "It assumes you have sucessfully installed Python 3 and [pipenv](https://docs.pipenv.org) on your computer. If you haven't, I typically follow [Kenneth Reitz's installation guides](http://docs.python-guide.org/en/latest/starting/installation/#installation-guides) for Mac and Linux and [Anthony DeBarros's guide](http://www.anthonydebarros.com/2015/08/16/setting-up-python-in-windows-10/) for Windows users. The [pipenv installation instructions](https://docs.pipenv.org/#install-pipenv-today) are pretty straightforward. ([Hit me up](mailto:cody@ire.org) if you run into problems!)\n",
    "\n",
    "To test that both are installed:\n",
    "- Open a terminal window\n",
    "- Type `python3 --version` (or maybe `python --version` on PC) and make sure that it returns a version of Python 3\n",
    "- Type `pipenv --version` and make sure that it returns a version of pipenv"
   ]
  },
  {
   "cell_type": "markdown",
   "metadata": {},
   "source": [
    "### Hello Terminal\n",
    "\n",
    "If you're not familiar with the command line, or terminal, it's a place where you can type commands for your computer to execute.\n",
    "\n",
    "On Windows, search for a program called `cmd`. A window should launch that looks something like this:\n",
    "\n",
    "![PC terminal](../img/terminal-pc.png \"PC terminal\")\n",
    "\n",
    "On Mac or Linux installations, search for a program called `Terminal`. Here's what my (tricked-out Mac) prompt looks like:\n",
    "\n",
    "![Mac terminal](../img/terminal-mac.png \"Mac terminal\")\n",
    "\n",
    "[Here's a good intro](https://drive.google.com/file/d/1_2LTtR6f5bFCC5wjFZc9ILA7vmru7ShK/view) aimed at people with Mac or Linux operating systems. The principles will be the same on a PC, [but many the commands are different](http://www.dba-oracle.com/t_windows_dos_unix_linux_commands.htm).\n",
    "\n",
    "The commands we'll use to start a new project:\n",
    "- `mkdir`: Create a directory\n",
    "- `cd`: Change into a directory\n",
    "- `pipenv`: Manage your project dependencies and virtual environment\n",
    "- `jupyter`: Launch a Jupyter notebook"
   ]
  },
  {
   "cell_type": "markdown",
   "metadata": {},
   "source": [
    "### Start a new project\n",
    "\n",
    "n.b. Your terminal will probably look different from the one in the screenshots, and that is fine.\n",
    "\n",
    "**Step 1:** Open a terminal (your \"home\" directory where it starts will probably be your user folder)\n",
    "\n",
    "![Mac terminal](../img/terminal-mac.png \"Mac terminal\")\n",
    "\n",
    "**Step 2:** Make a new folder for your project (whatever you want, just don't put spaces in the folder name): `mkdir my-cool-project`\n",
    "\n",
    "![Making a new folder](../img/new-project-step-2.png \"Making a new folder\")\n",
    "\n",
    "**Step 3:** \"Move\" into that folder: `cd my-cool-project`\n",
    "\n",
    "![Moving into your new folder](../img/new-project-step-3.png \"Moving into your new folder\")\n",
    "\n",
    "**Step 4:** Create a new environment and install our external libraries (jupyter and pandas): `pipenv install jupyter pandas` (This step might take a minute)\n",
    "\n",
    "![pipenv ftw](../img/new-project-step-4.png \"pipenv ftw\")\n",
    "\n",
    "**Step 5:** Activate your virtual environment: `pipenv shell` (You'll notice the name of your virtual environment prepended to your prompt)\n",
    "\n",
    "![virtualenvironment is active](../img/new-project-step-5.png \"virtualenvironment is active\")\n",
    "\n",
    "**Step 6:** Launch Jupyter (will open in a browser window): `jupyter notebook`\n",
    "\n",
    "![launching jupyter](../img/new-project-step-6.png \"launching jupyter\")\n",
    "\n",
    "**Step 7:** In the Jupyter browser, create a new Python 3 notebook\n",
    "\n",
    "![new notebook](../img/new-project-step-7.png \"new notebook\")\n",
    "\n",
    "**Step 8:** Start creating! [This is a pretty good overview of the different parts of a notebook](https://nbviewer.jupyter.org/github/jupyter/notebook/blob/master/docs/source/examples/Notebook/Notebook%20Basics.ipynb)"
   ]
  }
 ],
 "metadata": {
  "kernelspec": {
   "display_name": "Python 3",
   "language": "python",
   "name": "python3"
  },
  "language_info": {
   "codemirror_mode": {
    "name": "ipython",
    "version": 3
   },
   "file_extension": ".py",
   "mimetype": "text/x-python",
   "name": "python",
   "nbconvert_exporter": "python",
   "pygments_lexer": "ipython3",
   "version": "3.6.4"
  }
 },
 "nbformat": 4,
 "nbformat_minor": 2
}
