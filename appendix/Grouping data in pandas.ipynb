{
 "cells": [
  {
   "cell_type": "markdown",
   "metadata": {},
   "source": [
    "# Grouping data in pandas\n",
    "\n",
    "You can group and aggregate data in pandas in ways that will be familiar if you've ever done a pivot table in Excel or a GROUP BY statement in SQL. In this notebook we'll use the eel import data that lives at `../data/eels.csv`."
   ]
  },
  {
   "cell_type": "code",
   "execution_count": null,
   "metadata": {},
   "outputs": [],
   "source": [
    "import pandas as pd"
   ]
  },
  {
   "cell_type": "code",
   "execution_count": null,
   "metadata": {},
   "outputs": [],
   "source": [
    "df = pd.read_csv('../data/eels.csv')"
   ]
  },
  {
   "cell_type": "code",
   "execution_count": null,
   "metadata": {},
   "outputs": [],
   "source": [
    "df.head()"
   ]
  },
  {
   "cell_type": "markdown",
   "metadata": {},
   "source": [
    "### `groupby()`\n",
    "\n",
    "Let's group the data by country and sum the kilos for each country.\n",
    "\n",
    "If this were a pivot table, we'd drag the `country` column into Rows and the `kilos` column into Values, then summarize by Sum.\n",
    "\n",
    "If this were SQL, we might write something like:\n",
    "\n",
    "```sql\n",
    "SELECT country, sum(kilos)\n",
    "FROM table\n",
    "GROUP BY country\n",
    "ORDER BY 2 desc\n",
    "```\n",
    "\n",
    "Let's do the same thing in pandas using [`groupby`](https://pandas.pydata.org/pandas-docs/stable/generated/pandas.DataFrame.groupby.html):\n",
    "\n",
    "- Select our two columns of interest (`country` and `kilos`)\n",
    "- Call the `groupby()` method on the grouping column (`country`)\n",
    "- Call the `sum()` method\n",
    "- Sort by kilos descending"
   ]
  },
  {
   "cell_type": "code",
   "execution_count": null,
   "metadata": {},
   "outputs": [],
   "source": [
    "df[['country', 'kilos']].groupby('country').sum().sort_values('kilos', ascending=False)"
   ]
  },
  {
   "cell_type": "markdown",
   "metadata": {},
   "source": [
    "### Value counts\n",
    "\n",
    "If all you need to do is count the occurrences of a value in a column, you can use the `value_counts()` method for a Series.\n",
    "\n",
    "In our eel data, every row is one month's of shipments of a particular eel product from one country. In how many months is mainland China represented, period? Of those, how many times did its monthly exports to the U.S. exceed 25,000 kilos?\n",
    "\n",
    "Our steps:\n",
    "- Get the value_counts of the country data and peep China's total\n",
    "- Filter the data to get just shipments over 25,000 kilos, then get the value_counts on country again, peep China's total"
   ]
  },
  {
   "cell_type": "code",
   "execution_count": null,
   "metadata": {},
   "outputs": [],
   "source": [
    "df.country.value_counts().sort_values(ascending=False).head()"
   ]
  },
  {
   "cell_type": "code",
   "execution_count": null,
   "metadata": {},
   "outputs": [],
   "source": [
    "df[df['kilos'] > 25000].country.value_counts().sort_values(ascending=False)"
   ]
  },
  {
   "cell_type": "markdown",
   "metadata": {},
   "source": [
    "### Pivot tables\n",
    "\n",
    "Now we want to get the total kilos by country by year. We could use `groupby()` again, but pass it multiple columns. We'd get something like this:"
   ]
  },
  {
   "cell_type": "code",
   "execution_count": null,
   "metadata": {},
   "outputs": [],
   "source": [
    "df[['country', 'year', 'kilos']].groupby(['country', 'year']).sum()"
   ]
  },
  {
   "cell_type": "markdown",
   "metadata": {},
   "source": [
    "... which is fine, but (I think) there's a more intuitive way to look at this data: using the [`pivot_table()`](https://pandas.pydata.org/pandas-docs/stable/generated/pandas.pivot_table.html) method.\n",
    "\n",
    "If we were making this pivot table in Excel, we would drag `country` to Rows, `kilos` to Values and `year` to Columns. But we're gonna do it in pandas. We're gonna hand the `pivot_table()` method X things:\n",
    "- A reference to the data frame you're pivoting (`df`)\n",
    "- The `index` column -- what to group your data by (`index='country'`)\n",
    "- The `columns` column -- the second grouping factor (`columns='year'`)\n",
    "- The `aggfunc` -- what function to use to aggregate the data; the default is to use an average, but we'll use Python's built-in `sum` function\n",
    "\n",
    "Then we'll sort the results by the latest year of data -- 2017."
   ]
  },
  {
   "cell_type": "code",
   "execution_count": null,
   "metadata": {},
   "outputs": [],
   "source": [
    "pd.pivot_table(df, index='country', columns='year', values='kilos', aggfunc=sum).sort_values(2017, ascending=False)"
   ]
  }
 ],
 "metadata": {
  "kernelspec": {
   "display_name": "Python 3",
   "language": "python",
   "name": "python3"
  },
  "language_info": {
   "codemirror_mode": {
    "name": "ipython",
    "version": 3
   },
   "file_extension": ".py",
   "mimetype": "text/x-python",
   "name": "python",
   "nbconvert_exporter": "python",
   "pygments_lexer": "ipython3",
   "version": "3.6.4"
  }
 },
 "nbformat": 4,
 "nbformat_minor": 2
}
