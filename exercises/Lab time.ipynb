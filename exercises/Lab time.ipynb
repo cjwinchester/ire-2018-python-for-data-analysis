{
 "cells": [
  {
   "cell_type": "markdown",
   "metadata": {},
   "source": [
    "# Lab time\n",
    "\n",
    "Pick a data set to noodle around with. Come up with questions to ask your data and practice loading data, filtering, sorting, grouping, etc."
   ]
  },
  {
   "cell_type": "code",
   "execution_count": 2,
   "metadata": {},
   "outputs": [],
   "source": [
    "import pandas as pd"
   ]
  },
  {
   "cell_type": "code",
   "execution_count": 3,
   "metadata": {},
   "outputs": [],
   "source": [
    "# a table of country codes\n",
    "country_codes = '../data/country-codes.csv'\n",
    "\n",
    "# world population data\n",
    "country_population = '../data/country-population.csv'\n",
    "\n",
    "# Criterion films\n",
    "criterion_films = '../data/criterion.csv'\n",
    "\n",
    "# eel product imports\n",
    "eels = '../data/eels.csv'\n",
    "\n",
    "# FL gator hunt data\n",
    "gators = '../data/gators.csv'\n",
    "\n",
    "# fights during NHL games\n",
    "hockey_fights = '../data/hockey-fights.xlsx'\n",
    "\n",
    "# homicides in large cities, 2014\n",
    "homicides = '../data/homicides2014.xlsx'\n",
    "\n",
    "# 2017 MLB salary data\n",
    "mlb = '../data/mlb.csv'\n",
    "\n",
    "# media witnesses to TX executions\n",
    "tx_death_row_media = '../data/tx-death-row-media-list.csv'\n",
    "\n",
    "# CO weed sales reports by county, 2017 (data has some caveats)\n",
    "'../data/colo-county-cannabis-sales-2017.csv'\n",
    "\n",
    "# CO county FIPS, names, 2016 population estimates\n",
    "'../data/colo-county-pop.csv'"
   ]
  },
  {
   "cell_type": "code",
   "execution_count": null,
   "metadata": {},
   "outputs": [],
   "source": [
    "# pick your data and create a data frame or frames\n",
    "# ex.:\n",
    "# df = pd.read_csv(mlb)\n",
    "\n"
   ]
  }
 ],
 "metadata": {
  "kernelspec": {
   "display_name": "Python 3",
   "language": "python",
   "name": "python3"
  },
  "language_info": {
   "codemirror_mode": {
    "name": "ipython",
    "version": 3
   },
   "file_extension": ".py",
   "mimetype": "text/x-python",
   "name": "python",
   "nbconvert_exporter": "python",
   "pygments_lexer": "ipython3",
   "version": "3.6.4"
  }
 },
 "nbformat": 4,
 "nbformat_minor": 2
}
