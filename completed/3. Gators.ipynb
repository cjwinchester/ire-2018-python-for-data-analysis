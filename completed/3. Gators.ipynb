{
 "cells": [
  {
   "cell_type": "markdown",
   "metadata": {},
   "source": [
    "# Gator data\n",
    "\n",
    "The Florida Fish and Wildlife Conservation Commission keeps track of [gators killed by hunters](http://myfwc.com/wildlifehabitats/managed/alligator/harvest/data-export/). A cut of this data lives in `../data/gators.csv`.\n",
    "\n",
    "Let's take a look!"
   ]
  },
  {
   "cell_type": "code",
   "execution_count": null,
   "metadata": {},
   "outputs": [],
   "source": [
    "# import pandas\n",
    "import pandas as pd"
   ]
  },
  {
   "cell_type": "code",
   "execution_count": null,
   "metadata": {},
   "outputs": [],
   "source": [
    "# create a data frame\n",
    "df = pd.read_csv('../data/gators.csv')"
   ]
  },
  {
   "cell_type": "code",
   "execution_count": null,
   "metadata": {},
   "outputs": [],
   "source": [
    "# check it out with head()\n",
    "df.head()"
   ]
  },
  {
   "cell_type": "code",
   "execution_count": null,
   "metadata": {},
   "outputs": [],
   "source": [
    "# get the info()\n",
    "df.info()"
   ]
  },
  {
   "cell_type": "code",
   "execution_count": null,
   "metadata": {},
   "outputs": [],
   "source": [
    "# what's the year range?\n",
    "df['Year'].unique()"
   ]
  },
  {
   "cell_type": "code",
   "execution_count": null,
   "metadata": {},
   "outputs": [],
   "source": [
    "# let's peep the carcass size values to get the pattern\n",
    "df['Carcass Size'].unique()"
   ]
  },
  {
   "cell_type": "code",
   "execution_count": null,
   "metadata": {},
   "outputs": [],
   "source": [
    "# let's coerce the values in the date column to native dates\n",
    "\n",
    "# first, we need to remove some data that just has a space in the date column\n",
    "# we found these by carefully reading the error messages that cropped up\n",
    "# when we first tried to coerce the date column without removing these records\n",
    "df_with_date = df[df['Harvest Date'] != ' ']\n",
    "\n",
    "# how many did we discard?\n",
    "discarded = len(df) - len(df_with_date)\n",
    "print('Discarded {} records.'.format(discarded))\n",
    "\n",
    "# now coerce column values with to_datetime()\n",
    "# https://pandas.pydata.org/pandas-docs/stable/generated/pandas.to_datetime.html\n",
    "df_with_date['Harvest Date'] = pd.to_datetime(df_with_date['Harvest Date'], format='%m-%d-%Y')"
   ]
  },
  {
   "cell_type": "code",
   "execution_count": null,
   "metadata": {},
   "outputs": [],
   "source": [
    "# check the output with head()\n",
    "df_with_date.head()"
   ]
  },
  {
   "cell_type": "code",
   "execution_count": null,
   "metadata": {},
   "outputs": [],
   "source": [
    "'''\n",
    "Now let's create a new column to get the gator's length in a constant value: inches\n",
    "\n",
    "We're going to write a function to do these steps:\n",
    "    - given a row of data, capture the feet and inch values in the carcass size column\n",
    "    - multiply feet by 12\n",
    "    - add that to the inch value and return the result\n",
    "\n",
    "We will then call this function on the data frame using the apply() method\n",
    "'''\n",
    "\n",
    "def get_inches(row):\n",
    "    carcass_size = row['Carcass Size']\n",
    "    ft_, in_ = carcass_size.split('ft.')\n",
    "    inches = int(in_.replace('in.', '').strip())\n",
    "    feet = int(ft_.strip())\n",
    "    return inches + (feet * 12)\n",
    "\n",
    "df_with_date['length_in'] = df_with_date.apply(get_inches, axis=1)"
   ]
  },
  {
   "cell_type": "code",
   "execution_count": null,
   "metadata": {},
   "outputs": [],
   "source": [
    "# check the output with head()\n",
    "df_with_date.head()"
   ]
  },
  {
   "cell_type": "code",
   "execution_count": null,
   "metadata": {},
   "outputs": [],
   "source": [
    "# sort by length descending, check it out with head()\n",
    "df_with_date.sort_values('length_in', ascending=False).head()"
   ]
  },
  {
   "cell_type": "code",
   "execution_count": null,
   "metadata": {},
   "outputs": [],
   "source": [
    "# get average length harvested by year\n",
    "length_by_year = pd.pivot_table(df_with_date, values='length_in', index=['Year'])\n",
    "\n",
    "print(length_by_year)"
   ]
  },
  {
   "cell_type": "code",
   "execution_count": null,
   "metadata": {},
   "outputs": [],
   "source": [
    "# what else?"
   ]
  }
 ],
 "metadata": {
  "kernelspec": {
   "display_name": "Python 3",
   "language": "python",
   "name": "python3"
  },
  "language_info": {
   "codemirror_mode": {
    "name": "ipython",
    "version": 3
   },
   "file_extension": ".py",
   "mimetype": "text/x-python",
   "name": "python",
   "nbconvert_exporter": "python",
   "pygments_lexer": "ipython3",
   "version": "3.6.4"
  }
 },
 "nbformat": 4,
 "nbformat_minor": 2
}
