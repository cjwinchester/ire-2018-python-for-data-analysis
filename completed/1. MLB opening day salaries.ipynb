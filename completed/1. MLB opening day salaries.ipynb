{
 "cells": [
  {
   "cell_type": "markdown",
   "metadata": {},
   "source": [
    "# 1. MLB opening day salaries\n",
    "\n",
    "Let's start by poking at some MLB opening day salary data from 2017. The file lives at `../data/mlb.csv`.\n",
    "\n",
    "Let's also open the [pandas documentation](https://pandas.pydata.org/pandas-docs/stable/) in a new browser tab."
   ]
  },
  {
   "cell_type": "markdown",
   "metadata": {},
   "source": [
    "### Import pandas\n",
    "\n",
    "We've already installed `pandas`, an external library we'll use to analyze data, on this computer. Now we just need to _import_ it so we can use its functionality in our script.\n",
    "\n",
    "👉For more details on installing and importing Python libraries, [see this notebook](../appendix/Installing%20and%20importing%20modules%20and%20libraries.ipynb)."
   ]
  },
  {
   "cell_type": "code",
   "execution_count": null,
   "metadata": {},
   "outputs": [],
   "source": [
    "import pandas as pd"
   ]
  },
  {
   "cell_type": "markdown",
   "metadata": {},
   "source": [
    "### Load the CSV\n",
    "\n",
    "Next, we'll load the CSV into a pandas _dataframe_, which is sort of like a virtual spreadsheet with rows and columns.\n",
    "\n",
    "We'll take a _string_ -- some text sandwiched between two apostrophes, or quotation marks -- with the path to our CSV and hand it off to the pandas `read_csv()` method. We'll assign the result to a variable called `df`. (The name of the `df` variable is arbitrary, FWIW -- you could call it `banana` and things would still work, though people reading your notebook would be confused.)\n",
    "\n",
    "👉For more details on _strings_ (and other data types) and _variable assignment_, [see this notebook](Appendix%20-%20Python%20data%20types%20and%20basic%20syntax.ipynb).\n",
    "\n",
    "👉For more details on loading data into pandas, [see this notebook](Appendix%20-%20Importing%20data%20into%20pandas.ipynb)."
   ]
  },
  {
   "cell_type": "code",
   "execution_count": null,
   "metadata": {},
   "outputs": [],
   "source": [
    "df = pd.read_csv('../data/mlb.csv')"
   ]
  },
  {
   "cell_type": "markdown",
   "metadata": {},
   "source": [
    "### Use `head()` to check out the data\n",
    "\n",
    "Now that the dataframe is loaded with data, let's use the `head()` method to see the first five rows of data."
   ]
  },
  {
   "cell_type": "code",
   "execution_count": null,
   "metadata": {},
   "outputs": [],
   "source": [
    "df.head()"
   ]
  },
  {
   "cell_type": "markdown",
   "metadata": {},
   "source": [
    "### Other ways to check out the dataframe\n",
    "\n",
    "- `.columns` will list the column names\n",
    "- `.info()` will let us know if any columns have null values in them\n",
    "- `.count()` will count the records in each column\n",
    "- `.shape` will give you `(number of rows, number of columns)`\n",
    "- `.describe()` will compute summary stats for the values in each column"
   ]
  },
  {
   "cell_type": "code",
   "execution_count": null,
   "metadata": {},
   "outputs": [],
   "source": [
    "df.columns"
   ]
  },
  {
   "cell_type": "code",
   "execution_count": null,
   "metadata": {},
   "outputs": [],
   "source": [
    "df.info()"
   ]
  },
  {
   "cell_type": "code",
   "execution_count": null,
   "metadata": {},
   "outputs": [],
   "source": [
    "df.count()"
   ]
  },
  {
   "cell_type": "code",
   "execution_count": null,
   "metadata": {},
   "outputs": [],
   "source": [
    "df.shape"
   ]
  },
  {
   "cell_type": "code",
   "execution_count": null,
   "metadata": {},
   "outputs": [],
   "source": [
    "df.describe()"
   ]
  },
  {
   "cell_type": "markdown",
   "metadata": {},
   "source": [
    "### Come up with a list of questions\n",
    "\n",
    "Now that we have a general idea of our data, let's come up with a list of questions. For starters:\n",
    "\n",
    "- What's the total, average and median salary for an MLB player?\n",
    "- How many players are on each team?\n",
    "- Which catchers makes the most money?\n",
    "- How many players make the league minimum?\n",
    "- Which teams have the biggest payrolls?\n",
    "\n",
    "Other questions?"
   ]
  },
  {
   "cell_type": "markdown",
   "metadata": {},
   "source": [
    "### Q: What's the total, average and median salary for an MLB player?\n",
    "\n",
    "If we were doing this in Excel, we'd probably scroll to the bottom of the worksheet and enter, in the SALARY column, `=SUM(D2:D868)`, and below that, `=AVERAGE(D2:D868)`, and then below that, `=MEDIAN(D2:D868)`. Here, we're going to select the values in the SALARY column and use a couple of built-in pandas methods to do the same math.\n",
    "\n",
    "In pandas, to select a column of data, you can use dot notation (`df.SALARY`) or, if the column name has spaces, bracket notation (`df['SALARY']`)."
   ]
  },
  {
   "cell_type": "code",
   "execution_count": null,
   "metadata": {},
   "outputs": [],
   "source": [
    "df.SALARY.sum()"
   ]
  },
  {
   "cell_type": "code",
   "execution_count": null,
   "metadata": {},
   "outputs": [],
   "source": [
    "df.SALARY.mean()"
   ]
  },
  {
   "cell_type": "code",
   "execution_count": null,
   "metadata": {},
   "outputs": [],
   "source": [
    "df.SALARY.median()"
   ]
  },
  {
   "cell_type": "markdown",
   "metadata": {},
   "source": [
    "### Q: How many players are on each team?\n",
    "\n",
    "To answer this question, we're going to use a method called `.value_counts()` on the TEAM column. The equivalent operation in Excel would be pivot table; in SQL, it'd be a GROUP BY statement with COUNT(\\*)."
   ]
  },
  {
   "cell_type": "code",
   "execution_count": null,
   "metadata": {},
   "outputs": [],
   "source": [
    "df.TEAM.value_counts()"
   ]
  },
  {
   "cell_type": "markdown",
   "metadata": {},
   "source": [
    "### Q: Which catchers makes the most money?\n",
    "\n",
    "To answer this question, first we'll _filter_ the dataframe to include only catchers. Then we'll sort the data descending and look at the top 5.\n",
    "\n",
    "First, we need to figure out how \"catcher\" is represented in our data. Let's use the `unique()` method to get a list of unique values in a column."
   ]
  },
  {
   "cell_type": "code",
   "execution_count": null,
   "metadata": {},
   "outputs": [],
   "source": [
    "df.POS.unique()"
   ]
  },
  {
   "cell_type": "markdown",
   "metadata": {},
   "source": [
    "Looks like we want to target records where the `POS` value is \"C.\"\n",
    "\n",
    "To filter data in a pandas dataframe, we'll put the filtering condition inside square brackets being called by `df[]`. It's a little confusing at first."
   ]
  },
  {
   "cell_type": "code",
   "execution_count": null,
   "metadata": {},
   "outputs": [],
   "source": [
    "catchers = df[df['POS'] == 'C']"
   ]
  },
  {
   "cell_type": "markdown",
   "metadata": {},
   "source": [
    "Now we want to sort these records top to bottom. To do that, we'll use the `sort_values()` method, which needs the name of the column to sort by ('SALARY'), and we'll also specify that `ascending` is `False`."
   ]
  },
  {
   "cell_type": "code",
   "execution_count": null,
   "metadata": {},
   "outputs": [],
   "source": [
    "catchers.sort_values('SALARY', ascending=False)"
   ]
  },
  {
   "cell_type": "markdown",
   "metadata": {},
   "source": [
    "### Q: How many players make the league minimum?\n",
    "\n",
    "First, we'll need to figure out what the league minimum is. It's reasonable to assume that this number will be the lowest value in the data, and that it would probably appear most frequently. Let's use `value_counts()` again to check it out."
   ]
  },
  {
   "cell_type": "code",
   "execution_count": null,
   "metadata": {},
   "outputs": [],
   "source": [
    "df.SALARY.value_counts()"
   ]
  },
  {
   "cell_type": "markdown",
   "metadata": {},
   "source": [
    "#### Bonus Q: What percentage of players does that represent?\n",
    "\n",
    "We now know how many make the league minimum (50). We can use Python's built-in `len()` function to get a quick record count on the data frame, and from there the math is straightforward."
   ]
  },
  {
   "cell_type": "code",
   "execution_count": null,
   "metadata": {},
   "outputs": [],
   "source": [
    "(50 / len(df)) * 100"
   ]
  },
  {
   "cell_type": "markdown",
   "metadata": {},
   "source": [
    "### Q: Which teams have the biggest payrolls?\n",
    "\n",
    "To answer this question, we're again going to use equivalent of an Excel pivot table. Our steps:\n",
    "\n",
    "1. Select out the two columns we're interested in: `[TEAM, SALARY]`\n",
    "2. Use the `groupby()` method to group the data by team\n",
    "3. Use the `sum()` method to sum salaries by team\n",
    "4. Use the `sort_values()` method to sort the results descending\n",
    "\n",
    "_Furthermore_, we're gonna chain these methods together and do it all in one whack."
   ]
  },
  {
   "cell_type": "code",
   "execution_count": null,
   "metadata": {},
   "outputs": [],
   "source": [
    "df[['TEAM', 'SALARY']].groupby('TEAM') \\\n",
    "                      .sum() \\\n",
    "                      .sort_values('SALARY', ascending=False)"
   ]
  }
 ],
 "metadata": {
  "kernelspec": {
   "display_name": "Python 3",
   "language": "python",
   "name": "python3"
  },
  "language_info": {
   "codemirror_mode": {
    "name": "ipython",
    "version": 3
   },
   "file_extension": ".py",
   "mimetype": "text/x-python",
   "name": "python",
   "nbconvert_exporter": "python",
   "pygments_lexer": "ipython3",
   "version": "3.6.4"
  }
 },
 "nbformat": 4,
 "nbformat_minor": 2
}
